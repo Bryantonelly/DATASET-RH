{
  "nbformat": 4,
  "nbformat_minor": 0,
  "metadata": {
    "colab": {
      "provenance": []
    },
    "kernelspec": {
      "name": "python3",
      "display_name": "Python 3"
    },
    "language_info": {
      "name": "python"
    }
  },
  "cells": [
    {
      "cell_type": "code",
      "execution_count": 7,
      "metadata": {
        "colab": {
          "base_uri": "https://localhost:8080/"
        },
        "id": "HCxEE_xUYnj2",
        "outputId": "54b0d87f-1d06-4303-de65-c8e29b2c15f4"
      },
      "outputs": [
        {
          "output_type": "stream",
          "name": "stdout",
          "text": [
            "El archivo CSV se ha guardado en: /content/synthetic_hr_data_with_issues.csv\n"
          ]
        }
      ],
      "source": [
        "import pandas as pd\n",
        "import numpy as np\n",
        "\n",
        "# Configuración del generador de números aleatorios para reproducibilidad\n",
        "np.random.seed(42)\n",
        "\n",
        "# Crear un DataFrame de empleados\n",
        "data = {\n",
        "    'EmployeeID': np.arange(1, 101),\n",
        "    'FirstName': np.random.choice(['John', 'Jane', 'Alice', 'Bob', 'Charlie', 'Diana'], size=100),\n",
        "    'LastName': np.random.choice(['Smith', 'Johnson', 'Williams', 'Jones', 'Brown', 'Davis'], size=100),\n",
        "    'Department': np.random.choice(['Sales', 'Engineering', 'HR', 'Finance', 'IT'], size=100),\n",
        "    'Position': np.random.choice(['Manager', 'Engineer', 'Analyst', 'Clerk', 'Specialist'], size=100),\n",
        "    'Salary': np.random.randint(30000, 120000, size=100),\n",
        "    'DateOfJoining': pd.to_datetime(np.random.choice(pd.date_range('2015-01-01', '2021-12-31'), size=100)),\n",
        "    'Age': np.random.randint(22, 60, size=100),\n",
        "    'Gender': np.random.choice(['M', 'F'], size=100)\n",
        "}\n",
        "\n",
        "# Crear el DataFrame\n",
        "df = pd.DataFrame(data)\n",
        "\n",
        "# Introducir valores nulos en 'Salary' y 'DateOfJoining'\n",
        "df.loc[np.random.choice(df.index, size=5, replace=False), 'Salary'] = np.nan\n",
        "df.loc[np.random.choice(df.index, size=5, replace=False), 'DateOfJoining'] = np.nan\n",
        "\n",
        "# Introducir valores incorrectos en 'Salary' (texto) y 'Age' (valores negativos)\n",
        "df.loc[np.random.choice(df.index, size=5, replace=False), 'Salary'] = 'unknown'\n",
        "df.loc[np.random.choice(df.index, size=5, replace=False), 'Age'] = -np.random.randint(1, 10, size=5)\n",
        "\n",
        "# Duplicar registros usando pd.concat()\n",
        "df_duplicates = pd.concat([df, df.iloc[0:10]], ignore_index=True)\n",
        "\n",
        "# Guardar el DataFrame en un archivo CSV\n",
        "file_path = '/content/synthetic_hr_data_with_issues.csv'\n",
        "df_duplicates.to_csv(file_path, index=False)\n",
        "\n",
        "print(f\"El archivo CSV se ha guardado en: {file_path}\")\n"
      ]
    }
  ]
}